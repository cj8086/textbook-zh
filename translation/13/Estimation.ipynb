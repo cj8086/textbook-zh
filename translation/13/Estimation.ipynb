{
 "cells": [
  {
   "cell_type": "code",
   "execution_count": 1,
   "metadata": {
    "tags": [
     "remove-input"
    ]
   },
   "outputs": [],
   "source": [
    "from datascience import *\n",
    "%matplotlib inline\n",
    "path_data = '../../assets/data/'\n",
    "import matplotlib.pyplot as plt\n",
    "plt.style.use('fivethirtyeight')\n",
    "import numpy as np"
   ]
  },
  {
   "cell_type": "markdown",
   "metadata": {},
   "source": [
    "# Estimation\n",
    "\n",
    "In the previous chapter we began to develop ways of inferential thinking. In particular, we learned how to use data to decide between two hypotheses about the world. But often we just want to know how big something is. \n",
    "\n",
    "在前一章中，我们开始探索推理思维的方式。特别是，我们学会了如何使用数据在两个关于现实世界的假设之间作出选择。但往往我们只想知道某件事物有多大。\n",
    "\n",
    "For example, in an earlier chapter we investigated how many warplanes the enemy might have. In an election year, we might want to know what percent of voters favor a particular candidate. To assess the current economy, we might be interested in the median annual income of households in the United States.\n",
    "\n",
    "例如，在之前的章节中，我们调查了敌人可能拥有多少战斗机。在选举年，我们可能想知道有多少百分比的选民支持特定的候选人。为了评估当前经济形势，我们可能对美国家庭的年中位收入感兴趣。\n",
    "\n",
    "In this chapter, we will develop a way to *estimate* an unknown *parameter*. Remember that a parameter is a numerical value associated with a population.  \n",
    "\n",
    "在这一章中，我们将探索一种*估计*未知*参数*的方法。记住，参数是与人口相关联的数值。\n",
    "\n",
    "To figure out the value of a parameter, we need data. If we have the relevant data for the entire population, we can simply calculate the parameter. \n",
    "\n",
    "要弄清楚参数的值，我们需要数据。如果我们拥有整个人口的相关数据，我们可以简单地计算该参数。\n",
    "\n",
    "But if the population is very large – for example, if it consists of all the households in the United States – then it might be too expensive and time-consuming to gather data from the entire population. In such situations, data scientists rely on sampling at random from the population. \n",
    "\n",
    "但如果人口非常庞大——例如，如果它包括了美国的所有家庭——那么从整个人口中收集数据可能既昂贵又耗时。在这种情况下，数据科学家依靠从人口中随机抽样。\n",
    "\n",
    "This leads to a question of inference: How to make justifiable conclusions about the unknown parameter, based on the data in the random sample? We will answer this question by using inferential thinking.\n",
    "\n",
    "这就引出了一个推理问题：基于随机样本中的数据，如何对未知参数做出合理的结论？我们将通过使用推理思维来回答这个问题。\n",
    "\n",
    "A statistic based on a random sample can be a reasonable estimate of an unknown parameter in the population. For example, you might want to use the median annual income of sampled households as an estimate of the median annual income of all households in the U.S.\n",
    "\n",
    "基于随机样本的统计量可以是人口中未知参数的一个合理估计。例如，你可能想使用抽样家庭的年中位收入作为美国所有家庭年中位收入的估计。\n",
    "\n",
    "But the value of any statistic depends on the sample, and the sample is based on random draws. So every time data scientists come up with an estimate based on a random sample, they are faced with a question:\n",
    "\n",
    "但任何统计量的值都依赖于样本，而样本是基于随机抽取的。因此，每当数据科学家基于随机样本得出估计时，他们都会面临一个问题：\n",
    "\n",
    "**\"How different could this estimate have been, if the sample had come out differently?\"**\n",
    "\n",
    "**“如果样本结果不同，这个估计可能有多大差异？”**\n",
    "\n",
    "In this chapter you will learn one way of answering this question. The answer will give you the tools to estimate a numerical parameter and quantify the amount of error in your estimate.\n",
    "\n",
    "在这一章中，你将学习回答这个问题的一种方法。答案将给你工具来估计一个数值参数，并量化你的估计中的误差量。"
   ]
  },
  {
   "cell_type": "markdown",
   "metadata": {},
   "source": [
    "We will start with a preliminary about percentiles. The most famous percentile is the median, often used in summaries of income data. Other percentiles will be important in the method of estimation that we are about to develop. So we will start by defining percentiles carefully.\n",
    "\n",
    "我们将从百分位数的初步了解开始。最著名的百分位数是中位数，它经常被用于收入数据的总结。在我们即将探索的估计方法中，其他百分位数也很重要。因此，我们将从仔细定义百分位数开始。"
   ]
  }
 ],
 "metadata": {
  "anaconda-cloud": {},
  "kernelspec": {
   "display_name": "Python 3",
   "language": "python",
   "name": "python3"
  },
  "language_info": {
   "codemirror_mode": {
    "name": "ipython",
    "version": 3
   },
   "file_extension": ".py",
   "mimetype": "text/x-python",
   "name": "python",
   "nbconvert_exporter": "python",
   "pygments_lexer": "ipython3",
   "version": "3.7.8"
  }
 },
 "nbformat": 4,
 "nbformat_minor": 1
}
