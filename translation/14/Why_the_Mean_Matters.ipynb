{
 "cells": [
  {
   "cell_type": "markdown",
   "metadata": {},
   "source": [
    "# Why the Mean Matters\n",
    "In this course we have studied several different statistics, including total variation distance, the maximum, the median, and also the mean. Under clear assumptions about randomness, we have drawn empirical distributions of all of these statistics. Some, like the maximum and the total variation distance, have distributions that are clearly skewed in one direction or the other. But the empirical distribution of the sample mean has almost always turned out close to bell-shaped, regardless of the population being studied.\n",
    "\n",
    "在这门课程中，我们研究了几种不同的统计量，包括总体变异距离、最大值、中位数以及均值。在关于随机性的明确假设下，我们绘制了所有这些统计量的经验分布。有些统计量，如最大值和总体变异距离，其分布明显倾斜于某一方向。但是，样本均值的经验分布几乎总是接近钟形，无论研究的是哪个总体。\n",
    "\n",
    "If a property of random samples is true *regardless of the population,* it becomes a powerful tool for inference because we rarely know much about the data in the entire population. The distribution of the mean of a large random sample falls into this category of properties. That is why random sample means are extensively used in data science.\n",
    "\n",
    "如果随机样本的某个属性*不论总体如何*都成立，那么它就成为了一个强大的推断工具，因为我们很少能对整个总体中的数据有很多了解。大型随机样本的均值分布就属于这类属性。这就是为什么在数据科学中广泛使用随机样本均值的原因。\n",
    "\n",
    "In this chapter, we will study means and what we can say about them with only minimal assumptions about the underlying populations. Question that we will address include:\n",
    "\n",
    "- What exactly does the mean measure?\n",
    "- How close to the mean are most of the data?\n",
    "- How is the sample size related to the variability of the sample mean?\n",
    "- Why do empirical distributions of random sample means come out bell shaped?\n",
    "- How can we use sample means effectively for inference?\n",
    "\n",
    "在本章中，我们将研究均值及其背后的最基本假设。我们将探讨的问题包括：\n",
    "\n",
    "- 均值到底衡量了什么？\n",
    "- 大部分数据与均值的接近程度如何？\n",
    "- 样本大小与样本均值的可变性之间有何关系？\n",
    "- 为什么随机样本均值的经验分布呈现出钟形？\n",
    "- 我们如何有效地利用样本均值进行推断？\n"
   ]
  }
 ],
 "metadata": {
  "kernelspec": {
   "display_name": "Python 3",
   "language": "python",
   "name": "python3"
  },
  "language_info": {
   "codemirror_mode": {
    "name": "ipython",
    "version": 3
   },
   "file_extension": ".py",
   "mimetype": "text/x-python",
   "name": "python",
   "nbconvert_exporter": "python",
   "pygments_lexer": "ipython3",
   "version": "3.7.8"
  }
 },
 "nbformat": 4,
 "nbformat_minor": 1
}
