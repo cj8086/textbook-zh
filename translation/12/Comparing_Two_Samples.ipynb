{
 "cells": [
  {
   "cell_type": "code",
   "execution_count": 1,
   "metadata": {
    "tags": [
     "remove-input"
    ]
   },
   "outputs": [],
   "source": [
    "import matplotlib\n",
    "from datascience import *\n",
    "path_data = '../../assets/data/'\n",
    "%matplotlib inline\n",
    "import matplotlib.pyplot as plots\n",
    "from mpl_toolkits.mplot3d import Axes3D\n",
    "import numpy as np\n",
    "import math\n",
    "import scipy.stats as stats\n",
    "plots.style.use('fivethirtyeight')"
   ]
  },
  {
   "cell_type": "markdown",
   "metadata": {},
   "source": [
    "# 比较两个样本\n",
    "\n",
    "我们已经看到一些评估单个样本是否看起来像是来自特定机会模型的随机抽样的例子。\n",
    "- 阿拉米达县的陪审团小组是否看起来像是来自合格陪审员人口的一个随机样本？\n",
    "-  Mendel 种植的豆科植物的颜色是否与他模型中指定的一致？\n",
    "\n",
    "在这些所有情况中，只有一个随机样本，我们试图决定它是如何生成的。但通常，数据科学家必须比较两个随机样本。例如，他们可能需要比较随机分配到治疗组和对照组的患者的结果。或者，他们可能将互联网用户随机分配到接收网站的两个不同版本，之后他们想要比较两个随机组的行为。\n",
    "\n",
    "在本章中，我们将创立一种使用 Python 来比较两个随机样本的方法，并回答关于它们之间相似性和差异性的问题。您将看到我们开发的方法具有多种应用。我们的例子选自医学和公共卫生领域，以及足球领域！\n"
   ]
  }
 ],
 "metadata": {
  "anaconda-cloud": {},
  "kernelspec": {
   "display_name": "Python 3",
   "language": "python",
   "name": "python3"
  },
  "language_info": {
   "codemirror_mode": {
    "name": "ipython",
    "version": 3
   },
   "file_extension": ".py",
   "mimetype": "text/x-python",
   "name": "python",
   "nbconvert_exporter": "python",
   "pygments_lexer": "ipython3",
   "version": "3.7.8"
  }
 },
 "nbformat": 4,
 "nbformat_minor": 1
}
