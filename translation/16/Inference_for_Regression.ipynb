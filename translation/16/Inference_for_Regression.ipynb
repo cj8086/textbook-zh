{
 "cells": [
  {
   "cell_type": "code",
   "execution_count": 1,
   "metadata": {
    "tags": [
     "remove-input"
    ]
   },
   "outputs": [],
   "source": [
    "from datascience import *\n",
    "path_data = '../../assets/data/'\n",
    "import numpy as np\n",
    "import matplotlib\n",
    "matplotlib.use('Agg')\n",
    "%matplotlib inline\n",
    "import matplotlib.pyplot as plots\n",
    "plots.style.use('fivethirtyeight')"
   ]
  },
  {
   "cell_type": "markdown",
   "metadata": {},
   "source": [
    "# Inference for Regression\n",
    "\n",
    "Thus far, our analysis of the relation between variables has been purely descriptive. We know how to find the best straight line to draw through a scatter plot. The line is the best in the sense that it has the smallest mean squared error of estimation among all straight lines.\n",
    "\n",
    "到目前为止，我们对变量之间关系的分析纯粹是描述性的。我们知道如何求出通过散点图的最佳直线。这条线之所以最佳，是因为在所有直线中它的均方误差估计最小。\n",
    "\n",
    "But what if our data were only a sample from a larger population? If in the sample we found a linear relation between the two variables, would the same be true for the population? Would it be exactly the same linear relation? Could we predict the response of a new individual who is not in our sample?\n",
    "\n",
    "但如果我们的数据只是来自更大总体的一个样本怎么办？如果在样本中我们发现了两个变量之间的线性关系，那么对于总体来说也是如此吗？是否会是完全相同的线性关系？我们能否预测不在样本中的新个体的响应？\n",
    "\n",
    "Such questions of inference and prediction arise if we believe that a scatter plot reflects the underlying relation between the two variables being plotted but does not specify the relation completely. For example, a scatter plot of birth weight versus gestational days shows us the precise relation between the two variables in our sample; but we might wonder whether that relation holds true, or almost true, for all babies in the population from which the sample was drawn, or indeed among babies in general.\n",
    "\n",
    "如果我们认为散点图反映了两个被绘制变量之间的潜在关系，但并没有完全确认这种关系，就会出现这样的推断和预测问题。例如，出生体重与妊娠天数的散点图向我们展示了我们样本中两个变量之间的确切关系；但我们会想知道，这种关系是否对从样本中抽取的总体中的所有婴儿都成立，或者几乎对一般婴儿都成立。\n",
    "\n",
    "As always, inferential thinking begins with a careful examination of the assumptions about the data. Sets of assumptions are known as *models*. Sets of assumptions about randomness in roughly linear scatter plots are called *regression models*.\n",
    "\n",
    "正如往常一样，推断性思维始于对数据的假设进行仔细检查。关于数据的一组假设被称为*模型*。关于大致呈现线性关系的散点图中随机性的一组假设被称为*回归模型*。\n"
   ]
  }
 ],
 "metadata": {
  "anaconda-cloud": {},
  "kernelspec": {
   "display_name": "Python 3",
   "language": "python",
   "name": "python3"
  },
  "language_info": {
   "codemirror_mode": {
    "name": "ipython",
    "version": 3
   },
   "file_extension": ".py",
   "mimetype": "text/x-python",
   "name": "python",
   "nbconvert_exporter": "python",
   "pygments_lexer": "ipython3",
   "version": "3.7.8"
  }
 },
 "nbformat": 4,
 "nbformat_minor": 1
}
