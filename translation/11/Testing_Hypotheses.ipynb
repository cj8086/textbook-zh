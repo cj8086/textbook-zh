{
 "cells": [
  {
   "cell_type": "markdown",
   "metadata": {},
   "source": [
    "# 检验假设\n",
    "\n",
    "数据科学家经常面临关于世界的是非问题。在本课程中，您已经看到了一些这样的问题的例子：\n",
    "\n",
    "- 巧克力对你有益吗？\n",
    "- 来自 Broad 街水泵的水导致了霍乱吗？\n",
    "- 过去十年，加利福尼亚的人口统计数据发生了变化吗？\n",
    "\n",
    "我们是否能够回答这些问题取决于我们拥有的数据。关于加利福尼亚的人口普查数据几乎可以毫无疑问地解决有关人口统计的问题。我们知道 Broad 街水泵的水被霍乱患者的废弃物污染了，因此我们可以相当有把握地猜测是它导致了霍乱。\n",
    "\n",
    "巧克力或任何其他治疗方法是否对你有益，肯定需要由医学专家来决定，但初步步骤包括使用数据科学来分析研究和随机实验的数据。\n",
    "\n",
    "在本章中，我们将尝试回答这样的是非问题，我们的结论将基于随机样本和经验分布。"
   ]
  }
 ],
 "metadata": {
  "anaconda-cloud": {},
  "kernelspec": {
   "display_name": "Python 3",
   "language": "python",
   "name": "python3"
  },
  "language_info": {
   "codemirror_mode": {
    "name": "ipython",
    "version": 3
   },
   "file_extension": ".py",
   "mimetype": "text/x-python",
   "name": "python",
   "nbconvert_exporter": "python",
   "pygments_lexer": "ipython3",
   "version": "3.7.8"
  }
 },
 "nbformat": 4,
 "nbformat_minor": 1
}
